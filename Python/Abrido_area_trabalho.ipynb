{
 "cells": [
  {
   "cell_type": "code",
   "execution_count": 3,
   "id": "b265081d",
   "metadata": {},
   "outputs": [],
   "source": [
    "import pyautogui as pg\n",
    "import time\n",
    "import pyperclip as pc\n",
    "\n",
    "#abrindo pasta\n",
    "pg.click(645, 1060)\n",
    "\n",
    "#abrindo edge\n",
    "pg.click(707, 1055)\n",
    "\n",
    "#abrindo toad\n",
    "pg.click(830, 1059)\n",
    "\n",
    "#abrindo jivo\n",
    "pg.click(892, 1050)\n",
    "\n",
    "#abrindo signal\n",
    "pg.click(953, 1057)\n",
    "\n",
    "#abrindo aquivos na "
   ]
  },
  {
   "cell_type": "code",
   "execution_count": 15,
   "id": "a2baa81e",
   "metadata": {},
   "outputs": [
    {
     "data": {
      "text/plain": [
       "Point(x=953, y=1057)"
      ]
     },
     "execution_count": 15,
     "metadata": {},
     "output_type": "execute_result"
    }
   ],
   "source": [
    "time.sleep(2)\n",
    "pg.position()"
   ]
  },
  {
   "cell_type": "code",
   "execution_count": 17,
   "id": "16527ad0",
   "metadata": {},
   "outputs": [],
   "source": [
    "#abrindo aquivos na pasta\n",
    "\n",
    "#abrindo pasta\n",
    "pg.click(645, 1060)"
   ]
  },
  {
   "cell_type": "code",
   "execution_count": null,
   "id": "fca04565",
   "metadata": {},
   "outputs": [],
   "source": []
  }
 ],
 "metadata": {
  "kernelspec": {
   "display_name": "Python 3",
   "language": "python",
   "name": "python3"
  },
  "language_info": {
   "codemirror_mode": {
    "name": "ipython",
    "version": 3
   },
   "file_extension": ".py",
   "mimetype": "text/x-python",
   "name": "python",
   "nbconvert_exporter": "python",
   "pygments_lexer": "ipython3",
   "version": "3.8.8"
  }
 },
 "nbformat": 4,
 "nbformat_minor": 5
}
