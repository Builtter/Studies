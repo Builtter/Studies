{
 "cells": [
  {
   "cell_type": "code",
   "execution_count": 17,
   "id": "056a5a32",
   "metadata": {},
   "outputs": [],
   "source": [
    "import pyautogui as pg # teclado e mouse\n",
    "import time\n",
    "import pyperclip as pc # "
   ]
  },
  {
   "cell_type": "code",
   "execution_count": 35,
   "id": "b105294d",
   "metadata": {},
   "outputs": [
    {
     "data": {
      "text/plain": [
       "'OK'"
      ]
     },
     "execution_count": 35,
     "metadata": {},
     "output_type": "execute_result"
    }
   ],
   "source": [
    "#abrindo nova aba no navegador\n",
    "pg.hotkey('ctrl', 't')\n",
    "time.sleep(3)\n",
    "\n",
    "#abrindo youtube\n",
    "\n",
    "you = 'www.youtube.com'\n",
    "pg.write(you, interval = 0.25)\n",
    "time.sleep(2)\n",
    "pg.press('enter')\n",
    "time.sleep(2)\n",
    "\n",
    "#digitando o que procurar no youtube\n",
    "clip = 'DEATH OF A HERO - Epic Dramatic Music Mix | Powerful Emotional Music | Vol. 3'\n",
    "\n",
    "pg.click(600, 163)\n",
    "pg.write(clip, interval = 0.1)\n",
    "pg.press('enter')\n",
    "time.sleep(2)\n",
    "\n",
    "#escolhendo o primeiro video\n",
    "pg.click(603, 406)\n",
    "\n",
    "#escolhendo tempo diferente\n",
    "time.sleep(1)\n",
    "pg.click(765,811)\n",
    "pg.alert('Automação finalizada com sucesso!!')\n",
    "\n"
   ]
  },
  {
   "cell_type": "code",
   "execution_count": 30,
   "id": "f998f300",
   "metadata": {},
   "outputs": [
    {
     "data": {
      "text/plain": [
       "Point(x=765, y=811)"
      ]
     },
     "execution_count": 30,
     "metadata": {},
     "output_type": "execute_result"
    }
   ],
   "source": [
    "#marcador de posição de mouse\n",
    "\n",
    "time.sleep(3)\n",
    "pg.position()"
   ]
  },
  {
   "cell_type": "code",
   "execution_count": null,
   "id": "1577017c",
   "metadata": {},
   "outputs": [],
   "source": []
  }
 ],
 "metadata": {
  "kernelspec": {
   "display_name": "Python 3",
   "language": "python",
   "name": "python3"
  },
  "language_info": {
   "codemirror_mode": {
    "name": "ipython",
    "version": 3
   },
   "file_extension": ".py",
   "mimetype": "text/x-python",
   "name": "python",
   "nbconvert_exporter": "python",
   "pygments_lexer": "ipython3",
   "version": "3.8.8"
  }
 },
 "nbformat": 4,
 "nbformat_minor": 5
}
